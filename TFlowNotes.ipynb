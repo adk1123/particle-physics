{
  "nbformat": 4,
  "nbformat_minor": 0,
  "metadata": {
    "colab": {
      "provenance": [],
      "authorship_tag": "ABX9TyM8aLCTeVSH077kvBpgNn/A"
    },
    "kernelspec": {
      "name": "python3",
      "display_name": "Python 3"
    },
    "language_info": {
      "name": "python"
    }
  },
  "cells": [
    {
      "cell_type": "code",
      "source": [
        "import tensorflow as tf\n",
        "print(tf.version)\n"
      ],
      "metadata": {
        "colab": {
          "base_uri": "https://localhost:8080/"
        },
        "id": "GZ_EgCN2qu15",
        "outputId": "2706735f-bfa3-486c-b5c5-8b2ebb252a11"
      },
      "execution_count": null,
      "outputs": [
        {
          "output_type": "stream",
          "name": "stdout",
          "text": [
            "<module 'tensorflow._api.v2.version' from '/usr/local/lib/python3.10/dist-packages/tensorflow/_api/v2/version/__init__.py'>\n"
          ]
        }
      ]
    },
    {
      "cell_type": "code",
      "source": [
        "scalar_mul = tf.Variable(22, tf.int16)\n",
        "\n",
        "scalar = tf.Constant(19)\n",
        "\n",
        "rank_1 = tf.Variable([1,2,3,4,5,6,7], tf.int16) # flat shape\n",
        "rank_2 = tf.Variable([[1,2,3],\n",
        "                      [2,1,3]], tf.int16) # 3 3 shape\n",
        "int r = 123\n",
        "int g = 211\n",
        "int b = 032\n",
        "int frames = 25;\n",
        "\n",
        "pixel = tf.Tensor([r,g,b])\n",
        "image = tf.Tensor([256, 256, [r,g,b]])\n",
        "videospace = tf.Tensor([frames,[256, 256, [r,g,b]]])\n",
        "\n",
        "# A pixel\n",
        "\n",
        "# An image would be a rank 2 tensor with a shape (height, width, [r,g,b])\n",
        "\n",
        "# Videospace would be a rank 3 tensor with shape (# of frames, image of pixels)\n",
        "\n",
        "#particle in spacetime would be a rank 1 with shape (x,y,z,time) for t point in time\n",
        "\n",
        "#Flowing space time would be rank 2 of shape (timescale ,[t,x,y,z])\n",
        "\n",
        "#When defining tensors, DO NOT split defined objects between dimensions, Be conservative with ranks\n",
        "\n",
        "spacetime = tf.ones([10,4])# 10 steps of time for an obj of [t,x,y,z]\n",
        "\n",
        "\n",
        "\n",
        "\n",
        "\n",
        "obj.shape # Shape is printed in a string of the number of elements per dimension"
      ],
      "metadata": {
        "colab": {
          "base_uri": "https://localhost:8080/"
        },
        "id": "9v4JHfN-rRN6",
        "outputId": "6cd3e6b8-b3f6-471e-eac0-fe36cd124353"
      },
      "execution_count": null,
      "outputs": [
        {
          "output_type": "execute_result",
          "data": {
            "text/plain": [
              "TensorShape([1, 1, 1])"
            ]
          },
          "metadata": {},
          "execution_count": 13
        }
      ]
    },
    {
      "cell_type": "code",
      "source": [],
      "metadata": {
        "id": "U13uPcL8uEai"
      },
      "execution_count": null,
      "outputs": []
    }
  ]
}